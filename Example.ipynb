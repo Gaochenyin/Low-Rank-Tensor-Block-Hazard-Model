{
 "cells": [
  {
   "cell_type": "markdown",
   "id": "0c02601a",
   "metadata": {},
   "source": [
    "# Customer churn analysis with low-rank tensor block hazard model"
   ]
  },
  {
   "cell_type": "markdown",
   "id": "c969d079",
   "metadata": {},
   "source": [
    "Here we present an example for implementing the proposed framework and compared it with two common models, generalized linear model (GLM) and Cox proportional hazard (Cox-PH). A full list of comparison can be found in `sim.py`. "
   ]
  },
  {
   "cell_type": "markdown",
   "id": "ac03c550",
   "metadata": {},
   "source": [
    "# Example"
   ]
  },
  {
   "cell_type": "code",
   "execution_count": 1,
   "id": "6be931c3",
   "metadata": {},
   "outputs": [],
   "source": [
    "from functools import partial\n",
    "import numpy as np\n",
    "import pandas as pd\n",
    "from scipy.special import expit\n",
    "from utils import theta2prob, gen_data_potential_Y_binary, \\\n",
    "    TensorCompletionCovariateBinary, \\\n",
    "    get_theta_binary, get_theta_survival, \\\n",
    "        regime_eval, regime_prec\n",
    "import scipy\n",
    "from sim import main\n",
    "import matplotlib.pyplot as plt"
   ]
  },
  {
   "cell_type": "markdown",
   "id": "1c3cb641",
   "metadata": {},
   "source": [
    "## Generate data N = 500, T = 10, k =3"
   ]
  },
  {
   "cell_type": "code",
   "execution_count": 2,
   "id": "1057507c",
   "metadata": {},
   "outputs": [],
   "source": [
    "N = 500; T = 10; k = 3; d = 3; seed = 2\n",
    "Y, A, delta, X, theta_true, error = gen_data_potential_Y_binary(seed = seed, N = N, T = T, k = k, d = d)"
   ]
  },
  {
   "cell_type": "markdown",
   "id": "545da78d",
   "metadata": {},
   "source": [
    "## Estimate the weight propensities"
   ]
  },
  {
   "cell_type": "code",
   "execution_count": 3,
   "id": "f78caa85",
   "metadata": {},
   "outputs": [],
   "source": [
    "def weight_contd_grad(coef, XX_t, A_t):\n",
    "        \n",
    "        N = XX_t.shape[0]\n",
    "        X_cov = np.hstack((np.ones((N, 1)), XX_t))\n",
    "        # compute the weight\n",
    "        linear_pred = np.dot(X_cov, coef)\n",
    "        # obj_grad_CAL = (A_t/expit(linear_pred) -1).dot(XX_t)/N\n",
    "        obj_grad_CAL = (A_t / expit(linear_pred) -1).dot(X_cov)/N\n",
    "        # obj_grad_CAL = (expit(linear_pred) - A_t).dot(XX_t)/N\n",
    "        return obj_grad_CAL\n",
    "def rho_trt(kn):\n",
    "    weights_coef1 = scipy.optimize.root(fun = partial(weight_contd_grad,\n",
    "                                      XX_t = X, A_t = A[:, kn]),\n",
    "                        x0 = np.zeros(d+1),\n",
    "                        # jac = partial(weight_contd_hess,\n",
    "                        #               XX_t = CV_X,\n",
    "                        #               A_t = CV_A),\n",
    "                        method = 'linearmixing').x\n",
    "    weights_coef0 = scipy.optimize.root(fun = partial(weight_contd_grad,\n",
    "                                      XX_t = X, A_t = 1 - A[:, kn]),\n",
    "                        x0 = np.zeros(d+1),\n",
    "                        # jac = partial(weight_contd_hess,\n",
    "                        #               XX_t = CV_X,\n",
    "                        #               A_t = CV_A),\n",
    "                        method = 'linearmixing').x\n",
    "    # compute the estimated propensity weights\n",
    "    rho = expit(X @ weights_coef1[1:] + weights_coef1[0]) * A[:, kn] +\\\n",
    "        expit(X @ weights_coef0[1:] + weights_coef0[0]) * (1-A[:, kn]) \n",
    "    return rho\n",
    "    \n",
    "# focus on past k treatments\n",
    "PS_trt = np.array([rho_trt(kn) for kn in range(k)]) \n",
    "rho = np.apply_along_axis(np.prod, 0, PS_trt)"
   ]
  },
  {
   "cell_type": "markdown",
   "id": "04a00525",
   "metadata": {},
   "source": [
    "## Low-rank tensor block hazard model estimation"
   ]
  },
  {
   "cell_type": "code",
   "execution_count": 4,
   "id": "4465246d",
   "metadata": {},
   "outputs": [
    {
     "name": "stderr",
     "output_type": "stream",
     "text": [
      "C:\\Users\\chyga\\anaconda3\\lib\\site-packages\\sklearn\\cluster\\_kmeans.py:1440: UserWarning: KMeans is known to have a memory leak on Windows with MKL, when there are less chunks than available threads. You can avoid it by setting the environment variable OMP_NUM_THREADS=1.\n",
      "  warnings.warn(\n"
     ]
    },
    {
     "name": "stdout",
     "output_type": "stream",
     "text": [
      "(CO-Tucker): 0th iteration with loss: 11.304\n",
      "(CO-Tucker): 1000th iteration with loss: 9.527\n",
      "(CO-Tucker): 2000th iteration with loss: 9.523\n",
      "(CO-Tucker): 3000th iteration with loss: 9.519\n",
      "(CO-Tucker): 4000th iteration with loss: 9.515\n",
      "(CO-Tucker): 5000th iteration with loss: 9.51\n",
      "(CO-Tucker): 6000th iteration with loss: 9.505\n",
      "(CO-Tucker): 7000th iteration with loss: 9.499\n",
      "(CO-Tucker): 8000th iteration with loss: 9.493\n",
      "(CO-Tucker): 9000th iteration with loss: 9.485\n"
     ]
    }
   ],
   "source": [
    "# replace Nan with zero for computational purpose\n",
    "Y[np.isnan(Y)]= 0    \n",
    "# weighted tensor block hazard model\n",
    "TC_bry_w = TensorCompletionCovariateBinary(Y = Y, A = A, X = X, delta = delta,\n",
    "                                           rho = rho,\n",
    "                                           stepsize = 1e-4,     \n",
    "                                           niters = 10000,\n",
    "                                           r1_list = [4], r2_list = [2], r3_list = [k + 1])\n",
    "theta_hat_w = TC_bry_w.SequentialTuning() # it take around 2-3 minutes"
   ]
  },
  {
   "cell_type": "markdown",
   "id": "43b33d52",
   "metadata": {},
   "source": [
    "Next, we compare the normalized tensor mean squared error, $\\|\\widehat{\\mathcal{Y}}-\\mathcal{Y}^*\\|/\\|\\mathcal{Y}^*\\|$, yielded by our proposal with two other benchmarks, GLM and Cox-PH, to showcase its **superority**. The full list of comparisons can be found in `sim.py` and our main paper."
   ]
  },
  {
   "cell_type": "code",
   "execution_count": 5,
   "id": "13d0109c",
   "metadata": {},
   "outputs": [
    {
     "name": "stdout",
     "output_type": "stream",
     "text": [
      "Normalized tensor estimation error of GLM: 0.5791\n",
      "\n",
      "Normalized tensor estimation error of CoxPH: 0.6063\n",
      "\n",
      "Normalized tensor estimation error of ours: 0.2256\n",
      "\n"
     ]
    }
   ],
   "source": [
    "# obtain the estimated survival curves of generalized linear model\n",
    "est_prob_GLM = theta2prob(get_theta_binary(Y = Y, A = A, X = X, delta = delta,\n",
    "                                          method = 'logit'))\n",
    "# obtain the estimated survival curves of CoxPh model\n",
    "est_prob_CoxPH = get_theta_survival(Y, A, X, delta, method = 'coxPH')\n",
    "# obtain the estimated survival curves of our model\n",
    "est_prob_TC = theta2prob(theta_hat_w)\n",
    "# true survival curves\n",
    "true_prob = theta2prob(theta_true)\n",
    "# output the normalized tensor estimation error\n",
    "print('Normalized tensor estimation error of GLM: {0:.4f}\\n'.format(np.linalg.norm(est_prob_GLM - true_prob)/\\\n",
    "    np.linalg.norm(true_prob)))\n",
    "print('Normalized tensor estimation error of CoxPH: {0:.4f}\\n'.format(np.linalg.norm(est_prob_CoxPH - true_prob)/\\\n",
    "    np.linalg.norm(true_prob)))\n",
    "print('Normalized tensor estimation error of ours: {0:.4f}\\n'.format(np.linalg.norm(est_prob_TC - true_prob)/\\\n",
    "    np.linalg.norm(true_prob)))"
   ]
  },
  {
   "cell_type": "markdown",
   "id": "4af76e2e",
   "metadata": {},
   "source": [
    "## Output the survival curves"
   ]
  },
  {
   "cell_type": "markdown",
   "id": "0b298b57",
   "metadata": {},
   "source": [
    "As we have completed the parameter tensor, we can now compute the individualized survival curves (or the churn probabilities) under any treatment $a$; see below for an example."
   ]
  },
  {
   "cell_type": "code",
   "execution_count": 6,
   "id": "fbb3e5b8",
   "metadata": {},
   "outputs": [
    {
     "data": {
      "text/plain": [
       "array([2.67037542e-01, 6.81335406e-02, 1.98940084e-03, 6.66948802e-05,\n",
       "       3.71724320e-07, 4.11567895e-09, 2.30075621e-11, 7.74970595e-13,\n",
       "       6.94461076e-16, 3.61645933e-18])"
      ]
     },
     "execution_count": 6,
     "metadata": {},
     "output_type": "execute_result"
    }
   ],
   "source": [
    "# individualized survival curves\n",
    "i = 1; l = 8\n",
    "# the survival probabilities for the i-th customer under l-th treatment\n",
    "est_prob_TC[i-1, :, l-1]"
   ]
  },
  {
   "cell_type": "markdown",
   "id": "8b97b4a9",
   "metadata": {},
   "source": [
    "In addition, we can obtain and plot the treatment-specific survival curves for the population by averaging over all the customers. The results suggest that the more active treatments one receives, the higher the survival probabilities will be. This aligns with our data generation process of $\\theta_{i,t,l}$, which includes the number of active treatments $\\mathrm{cum}\\{(l)_{2}\\}$ as a latent factor."
   ]
  },
  {
   "cell_type": "code",
   "execution_count": 7,
   "id": "2dc6cc32",
   "metadata": {},
   "outputs": [
    {
     "data": {
      "text/plain": [
       "Text(0.5, 0, 'Time')"
      ]
     },
     "execution_count": 7,
     "metadata": {},
     "output_type": "execute_result"
    },
    {
     "data": {
      "image/png": "[encoded data removed]",
      "text/plain": [
       "<Figure size 720x576 with 1 Axes>"
      ]
     },
     "metadata": {
      "needs_background": "light"
     },
     "output_type": "display_data"
    }
   ],
   "source": [
    "# plot population survival curves\n",
    "prob_survival_avg = est_prob_TC.mean(axis = 0)\n",
    "cmap = plt.get_cmap('bwr')\n",
    "colors = [cmap(i) for i in np.linspace(0, 1, 2**k)]\n",
    "fig, ax = plt.subplots(figsize=(10, 8))\n",
    "for i, color in enumerate(colors):\n",
    "    ax.plot(range(1,T+1), \n",
    "             prob_survival_avg[:, i], '-o',\n",
    "             color=color, label= f'{(bin(i)[2:]).zfill(3)}')\n",
    "ax.legend(loc='best', fontsize=15)\n",
    "ax.set_ylabel('Treatment-specific population survival curves', fontsize=15)\n",
    "ax.set_xlabel('Time', fontsize=15)"
   ]
  }
 ],
 "metadata": {
  "kernelspec": {
   "display_name": "Python 3 (ipykernel)",
   "language": "python",
   "name": "python3"
  },
  "language_info": {
   "codemirror_mode": {
    "name": "ipython",
    "version": 3
   },
   "file_extension": ".py",
   "mimetype": "text/x-python",
   "name": "python",
   "nbconvert_exporter": "python",
   "pygments_lexer": "ipython3",
   "version": "3.9.12"
  }
 },
 "nbformat": 4,
 "nbformat_minor": 5
}
